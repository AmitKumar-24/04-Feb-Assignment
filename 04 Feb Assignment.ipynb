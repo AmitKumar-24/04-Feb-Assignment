{
 "cells": [
  {
   "cell_type": "markdown",
   "id": "f9ccb146-c00d-4bf7-8a84-455e327780e8",
   "metadata": {},
   "source": [
    "Q1. Create a python program to sort the given list of tuples based on integer value using a  lambda function.  \n",
    "[('Sachin Tendulkar', 34357), ('Ricky Ponting', 27483), ('Jack Kallis', 25534), ('Virat Kohli', 24936)] \n"
   ]
  },
  {
   "cell_type": "code",
   "execution_count": 1,
   "id": "c54db870-8b9b-4263-8523-205248ad34a5",
   "metadata": {},
   "outputs": [
    {
     "name": "stdout",
     "output_type": "stream",
     "text": [
      "original list of tuples : \n",
      "[('Sachin Tendulkar', 34357), ('Ricky Ponting', 27483), ('Jack Kallis', 25534), ('Virat Kohli', 24936)]\n",
      "list of tuples after sorting tuples based on integer value : \n",
      "[('Virat Kohli', 24936), ('Jack Kallis', 25534), ('Ricky Ponting', 27483), ('Sachin Tendulkar', 34357)]\n"
     ]
    }
   ],
   "source": [
    "t1 = [('Sachin Tendulkar', 34357), ('Ricky Ponting', 27483), ('Jack Kallis', 25534), ('Virat Kohli', 24936)]\n",
    "print('original list of tuples : ')\n",
    "print(t1)\n",
    "t1.sort(key = lambda x : x[1])\n",
    "print('list of tuples after sorting tuples based on integer value : ')\n",
    "print(t1)"
   ]
  },
  {
   "cell_type": "markdown",
   "id": "b05c2ede-dd65-4174-a4dd-afe7fc83286f",
   "metadata": {},
   "source": [
    "Q2. Write a Python Program to find the squares of all the numbers in the given list of integers using  lambda and map functions. \n",
    "[1, 2, 3, 4, 5, 6, 7, 8, 9, 10] "
   ]
  },
  {
   "cell_type": "code",
   "execution_count": 2,
   "id": "06b91c7b-fd05-4ace-85be-95141656dff4",
   "metadata": {},
   "outputs": [
    {
     "name": "stdout",
     "output_type": "stream",
     "text": [
      "[1, 4, 9, 16, 25, 36, 49, 64, 81, 100]\n"
     ]
    }
   ],
   "source": [
    "# Python Program to squares of all the numbers in the given list of integers using lambda and map functions. [1, 2, 3, 4, 5, 6, 7, 8, 9, 10]\n",
    "li = [1, 2, 3, 4, 5, 6, 7, 8, 9, 10]\n",
    "final_list = list(map(lambda i: i * i, li)) \n",
    "print(final_list)"
   ]
  },
  {
   "cell_type": "markdown",
   "id": "0dd389ae-60e4-454a-b4e4-5d0f93096fdf",
   "metadata": {},
   "source": [
    "Q3. Write a python program to convert the given list of integers into a tuple of strings. Use map and  lambda functions \n",
    "Given String: [1, 2, 3, 4, 5, 6, 7, 8, 9, 10] \n",
    "Expected output: ('1', '2', '3', '4', '5', '6', '7', '8', '9', '10') "
   ]
  },
  {
   "cell_type": "code",
   "execution_count": 2,
   "id": "691483ba-4df0-41df-b2e2-33cf2f026af5",
   "metadata": {},
   "outputs": [
    {
     "name": "stdout",
     "output_type": "stream",
     "text": [
      "('1', '2', '3', '4', '5', '6', '7', '8', '9', '10')\n"
     ]
    }
   ],
   "source": [
    "#converting list into tuples\n",
    "String= [1, 2, 3, 4, 5, 6, 7, 8, 9, 10]\n",
    "t = tuple(map(lambda x: str(x), String))\n",
    "print(t)"
   ]
  },
  {
   "cell_type": "markdown",
   "id": "adb722d6-a340-4e62-9b39-bd4a20e36cad",
   "metadata": {},
   "source": [
    "Q4.  Write a python program using reduce function to compute the product of a list containing numbers  from 1 to 25. "
   ]
  },
  {
   "cell_type": "code",
   "execution_count": 3,
   "id": "b6adba34-775b-403d-a595-b6471cbad160",
   "metadata": {},
   "outputs": [],
   "source": [
    "from functools import reduce"
   ]
  },
  {
   "cell_type": "code",
   "execution_count": 12,
   "id": "1537972e-d175-45fc-a52c-ffed3b53458e",
   "metadata": {},
   "outputs": [
    {
     "name": "stdout",
     "output_type": "stream",
     "text": [
      "15511210043330985984000000\n"
     ]
    }
   ],
   "source": [
    "l = []\n",
    "for i in range(1,26):\n",
    "    l.append(i)\n",
    "product = reduce(lambda x,y: x*y,l)\n",
    "print(product)"
   ]
  },
  {
   "cell_type": "markdown",
   "id": "b023c8c1-5a00-45f9-85b0-71a55f55681c",
   "metadata": {},
   "source": [
    "Q5. Write a python program to filter the numbers in a given list that are divisible by 2 and 3 using the  filter function. \n",
    "[2, 3, 6, 9, 27, 60, 90, 120, 55, 46] "
   ]
  },
  {
   "cell_type": "code",
   "execution_count": 15,
   "id": "193f5f7e-7db1-4831-be4e-eb05013566b9",
   "metadata": {},
   "outputs": [
    {
     "name": "stdout",
     "output_type": "stream",
     "text": [
      "[6, 60, 90, 120]\n"
     ]
    }
   ],
   "source": [
    "numbers = [2, 3, 6, 9, 27, 60, 90, 120, 55, 46] \n",
    "filter_num = filter(lambda x: x%2 == 0 and x%3 == 0, numbers)\n",
    "print(list(filter_num))"
   ]
  },
  {
   "cell_type": "markdown",
   "id": "8b31cae0-9e1b-4175-8d4f-5b8de8f339e6",
   "metadata": {},
   "source": [
    "Q6. Write a python program to find palindromes in the given list of strings using lambda and filter  function. \n",
    "['python', 'php', 'aba', 'radar', 'level'] "
   ]
  },
  {
   "cell_type": "code",
   "execution_count": 16,
   "id": "7be6a376-0029-45ae-98b5-326abd7940d6",
   "metadata": {},
   "outputs": [
    {
     "name": "stdout",
     "output_type": "stream",
     "text": [
      "['php', 'aba', 'radar', 'level']\n"
     ]
    }
   ],
   "source": [
    "String = ['python', 'php', 'aba', 'radar', 'level']\n",
    "palindrome_string = filter(lambda s: s==s[::-1],String)\n",
    "print(list(palindrome_string))"
   ]
  }
 ],
 "metadata": {
  "kernelspec": {
   "display_name": "Python 3 (ipykernel)",
   "language": "python",
   "name": "python3"
  },
  "language_info": {
   "codemirror_mode": {
    "name": "ipython",
    "version": 3
   },
   "file_extension": ".py",
   "mimetype": "text/x-python",
   "name": "python",
   "nbconvert_exporter": "python",
   "pygments_lexer": "ipython3",
   "version": "3.10.8"
  }
 },
 "nbformat": 4,
 "nbformat_minor": 5
}
